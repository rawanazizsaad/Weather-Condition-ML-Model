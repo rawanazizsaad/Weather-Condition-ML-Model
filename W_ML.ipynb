{
 "cells": [
  {
   "cell_type": "code",
   "execution_count": 1,
   "id": "20772475-7333-4cb6-a5de-49858e1cc4a5",
   "metadata": {},
   "outputs": [],
   "source": [
    "import pandas as pd \n",
    "import io\n",
    "import numpy as np \n",
    "from sklearn.svm import SVR,SVC\n",
    "from sklearn.metrics import confusion_matrix\n",
    "from sklearn.ensemble import RandomForestClassifier\n",
    "from sklearn.datasets import make_classification\n",
    "from sklearn.model_selection import train_test_split \n",
    "from sklearn.impute import SimpleImputer\n",
    "from sklearn.preprocessing import LabelEncoder , OneHotEncoder , StandardScaler,MinMaxScaler\n",
    "import matplotlib.pyplot as plt\n",
    "import seaborn as sns\n",
    "from sklearn.compose import ColumnTransformer\n",
    "from sklearn.tree import DecisionTreeClassifier\n",
    "from sklearn.metrics import mean_squared_error\n",
    "from sklearn.metrics import accuracy_score\n",
    "lb=LabelEncoder()\n",
    "sc=StandardScaler()\n",
    "mm=MinMaxScaler()\n",
    "from sklearn.model_selection import train_test_split , GridSearchCV\n",
    "\n",
    "\n",
    "\n"
   ]
  },
  {
   "cell_type": "code",
   "execution_count": 2,
   "id": "864be825-fd9d-40dc-8ccd-33a6119c7a5c",
   "metadata": {},
   "outputs": [
    {
     "data": {
      "text/plain": [
       "array(['No', 'No', 'No', ..., 'No', 'No', 'No'], dtype=object)"
      ]
     },
     "execution_count": 2,
     "metadata": {},
     "output_type": "execute_result"
    }
   ],
   "source": [
    "my_df=pd.read_csv('weather.csv')\n",
    "\n",
    "X=my_df.iloc[:,2:24].values\n",
    "\n",
    "X \n",
    "\n",
    "Y=my_df.iloc[:,-1].values\n",
    "\n",
    "Y "
   ]
  },
  {
   "cell_type": "code",
   "execution_count": 3,
   "id": "e5974fed-7540-4c31-b88f-903795f61f46",
   "metadata": {},
   "outputs": [],
   "source": [
    "# missing data \n",
    "imp=SimpleImputer(missing_values=np.nan,strategy=\"mean\")\n",
    "X[:,[1,2,3,4,5,7,10,11,12,13,14,15,16,17,18,19,21]]=imp.fit_transform(X[:,[1,2,3,4,5,7,10,11,12,13,14,15,16,17,18,19,21]])"
   ]
  },
  {
   "cell_type": "code",
   "execution_count": 4,
   "id": "1f0c1909-5d7b-4107-b150-d5b6cd8f88f5",
   "metadata": {},
   "outputs": [],
   "source": [
    "# labelencoding \n",
    "\n",
    "X[:,20]=lb.fit_transform(X[:,20])\n",
    "Y=lb.fit_transform(Y)\n"
   ]
  },
  {
   "cell_type": "code",
   "execution_count": 5,
   "id": "a98df080-81e5-4841-bbd6-5bce302dda1c",
   "metadata": {},
   "outputs": [],
   "source": [
    "# Normaliztion \n",
    "\n",
    "X[:,[1,2,3,4,5,7,10,11,12,13,14,15,16,17,18,19,21]]=mm.fit_transform(X[:,[1,2,3,4,5,7,10,11,12,13,14,15,16,17,18,19,21]])"
   ]
  },
  {
   "cell_type": "code",
   "execution_count": 6,
   "id": "645e8bbe-bb25-4370-a66f-8fa714b355ca",
   "metadata": {},
   "outputs": [
    {
     "data": {
      "text/plain": [
       "array([[0.0, 0.0, 0.0, ..., 0.38213399503722084, 0, 0.0],\n",
       "       [0.0, 0.0, 0.0, ..., 0.44416873449131516, 0, 0.0],\n",
       "       [0.0, 0.0, 0.0, ..., 0.41687344913151364, 0, 0.0],\n",
       "       ...,\n",
       "       [0.0, 0.0, 1.0, ..., 0.5409429280397022, 0, 0.0],\n",
       "       [0.0, 0.0, 0.0, ..., 0.5062034739454093, 0, 0.0],\n",
       "       [0.0, 0.0, 0.0, ..., 0.5930521091811414, 0, 0.0]], dtype=object)"
      ]
     },
     "execution_count": 6,
     "metadata": {},
     "output_type": "execute_result"
    }
   ],
   "source": [
    "# onehotencoding\n",
    "onehotencoder=ColumnTransformer([(\"encoder\",OneHotEncoder(),[0])],remainder=\"passthrough\")\n",
    "\n",
    "\n",
    "X=np.array(onehotencoder.fit_transform(X))\n",
    "X\n",
    "\n",
    "onehotencoder=ColumnTransformer([(\"encoder\",OneHotEncoder(),[14])],remainder=\"passthrough\")\n",
    "X=np.array(onehotencoder.fit_transform(X))\n",
    "X\n",
    "\n",
    "onehotencoder=ColumnTransformer([(\"encoder\",OneHotEncoder(),[32])],remainder=\"passthrough\")\n",
    "X=np.array(onehotencoder.fit_transform(X))\n",
    "X\n",
    "\n",
    "onehotencoder=ColumnTransformer([(\"encoder\",OneHotEncoder(),[49])],remainder=\"passthrough\")\n",
    "X=np.array(onehotencoder.fit_transform(X))\n",
    "X\n"
   ]
  },
  {
   "cell_type": "code",
   "execution_count": 7,
   "id": "865265b6-c4c2-4073-9e6c-770361a8e1ea",
   "metadata": {},
   "outputs": [
    {
     "data": {
      "text/plain": [
       "array([0, 0, 1, ..., 0, 1, 0])"
      ]
     },
     "execution_count": 7,
     "metadata": {},
     "output_type": "execute_result"
    }
   ],
   "source": [
    "x_train , x_test , y_train , y_test = train_test_split(X,Y,train_size=0.80 , random_state=42)\n",
    "y_train\n",
    "y_test"
   ]
  },
  {
   "cell_type": "code",
   "execution_count": 8,
   "id": "eab54a4c-4557-4818-bc19-69c9b766d1ac",
   "metadata": {},
   "outputs": [
    {
     "name": "stdout",
     "output_type": "stream",
     "text": [
      "(20000, 78)\n",
      "(20000,)\n",
      "(5000, 78)\n",
      "(5000,)\n"
     ]
    }
   ],
   "source": [
    "print(x_train.shape)\n",
    "print(y_train.shape)\n",
    "print(x_test.shape)\n",
    "print(y_test.shape)"
   ]
  },
  {
   "cell_type": "code",
   "execution_count": 9,
   "id": "54628eda-43cf-4bb3-86ef-50527b5cb250",
   "metadata": {},
   "outputs": [],
   "source": [
    "svcmodel=SVC(kernel='linear', C=10, random_state=7000)"
   ]
  },
  {
   "cell_type": "code",
   "execution_count": 10,
   "id": "9842781b-32a7-46fe-b3c3-a1c118b65812",
   "metadata": {},
   "outputs": [],
   "source": [
    "svcmodel=svcmodel.fit(x_train,y_train)"
   ]
  },
  {
   "cell_type": "code",
   "execution_count": 11,
   "id": "29b621c2-0009-4383-89f0-7f2ccbe9c5ff",
   "metadata": {},
   "outputs": [
    {
     "name": "stdout",
     "output_type": "stream",
     "text": [
      "SVRModel Train Score is :  0.93855\n",
      "SVRModel Test Score is :  0.9398\n"
     ]
    }
   ],
   "source": [
    "print('SVRModel Train Score is : ' , svcmodel.score(x_train, y_train))\n",
    "print('SVRModel Test Score is : ' , svcmodel.score(x_test, y_test))"
   ]
  },
  {
   "cell_type": "code",
   "execution_count": 12,
   "id": "6412642a-e065-4c1f-ac33-773e745574be",
   "metadata": {},
   "outputs": [
    {
     "data": {
      "text/plain": [
       "array([0, 0, 0, ..., 0, 0, 0])"
      ]
     },
     "execution_count": 12,
     "metadata": {},
     "output_type": "execute_result"
    }
   ],
   "source": [
    "y_predict=svcmodel.predict(x_test)\n",
    "y_predict"
   ]
  },
  {
   "cell_type": "code",
   "execution_count": 13,
   "id": "51543760-0c80-4451-aad9-eff99e71b0b5",
   "metadata": {},
   "outputs": [
    {
     "name": "stdout",
     "output_type": "stream",
     "text": [
      "Confusion Matrix is : \n",
      " [[3889    0]\n",
      " [ 301  810]]\n"
     ]
    },
    {
     "data": {
      "image/png": "[encoded data removed]",
      "text/plain": [
       "<Figure size 640x480 with 2 Axes>"
      ]
     },
     "metadata": {},
     "output_type": "display_data"
    }
   ],
   "source": [
    "#Calculating Confusion Matrix\n",
    "CM = confusion_matrix(y_test, y_predict)\n",
    "print('Confusion Matrix is : \\n', CM)\n",
    "\n",
    "# drawing confusion matrix\n",
    "sns.heatmap(CM, annot=True,fmt='3g')\n",
    "# sns.heatmap(CM, center = True)\n",
    "plt.show()\n"
   ]
  },
  {
   "cell_type": "code",
   "execution_count": 14,
   "id": "bc31d7f2-37ba-4a0d-bc61-3f462c89e1ac",
   "metadata": {},
   "outputs": [
    {
     "name": "stdout",
     "output_type": "stream",
     "text": [
      "Accuracy: 0.963\n"
     ]
    }
   ],
   "source": [
    "# generate some random data\n",
    "# X, y = make_classification(n_samples=1000, n_features=10, random_state=5000)\n",
    "\n",
    "# create random forest classifier\n",
    "rfc = RandomForestClassifier(max_depth=5,n_estimators=10,max_features=10, random_state=5000)\n",
    "\n",
    "# fit model to training data\n",
    "rfc.fit(x_train, y_train)\n",
    "score = rfc.score(x_test, y_test)\n",
    "print(\"Accuracy:\", score)\n",
    "y_pred=rfc.predict(x_test)\n",
    "# evaluate model performance on testing data\n",
    "\n"
   ]
  },
  {
   "cell_type": "code",
   "execution_count": 15,
   "id": "0ff94409-cdfc-4ec2-a685-0aa2e3457671",
   "metadata": {},
   "outputs": [
    {
     "name": "stdout",
     "output_type": "stream",
     "text": [
      "Confusion Matrix is : \n",
      " [[3885    4]\n",
      " [ 181  930]]\n"
     ]
    },
    {
     "data": {
      "image/png": "[encoded data removed]",
      "text/plain": [
       "<Figure size 640x480 with 2 Axes>"
      ]
     },
     "metadata": {},
     "output_type": "display_data"
    }
   ],
   "source": [
    "CM = confusion_matrix(y_test, y_pred)\n",
    "print('Confusion Matrix is : \\n', CM)\n",
    "\n",
    "# drawing confusion matrix\n",
    "sns.heatmap(CM, annot=True,fmt='3g')\n",
    "# sns.heatmap(CM, center = True)\n",
    "plt.show()"
   ]
  },
  {
   "cell_type": "code",
   "execution_count": null,
   "id": "c21248b9",
   "metadata": {},
   "outputs": [],
   "source": []
  },
  {
   "cell_type": "code",
   "execution_count": 16,
   "id": "26b8b4c8-b9cc-4359-99a7-7d79a2695de2",
   "metadata": {},
   "outputs": [
    {
     "data": {
      "text/html": [
       "<style>#sk-container-id-1 {color: black;background-color: white;}#sk-container-id-1 pre{padding: 0;}#sk-container-id-1 div.sk-toggleable {background-color: white;}#sk-container-id-1 label.sk-toggleable__label {cursor: pointer;display: block;width: 100%;margin-bottom: 0;padding: 0.3em;box-sizing: border-box;text-align: center;}#sk-container-id-1 label.sk-toggleable__label-arrow:before {content: \"▸\";float: left;margin-right: 0.25em;color: #696969;}#sk-container-id-1 label.sk-toggleable__label-arrow:hover:before {color: black;}#sk-container-id-1 div.sk-estimator:hover label.sk-toggleable__label-arrow:before {color: black;}#sk-container-id-1 div.sk-toggleable__content {max-height: 0;max-width: 0;overflow: hidden;text-align: left;background-color: #f0f8ff;}#sk-container-id-1 div.sk-toggleable__content pre {margin: 0.2em;color: black;border-radius: 0.25em;background-color: #f0f8ff;}#sk-container-id-1 input.sk-toggleable__control:checked~div.sk-toggleable__content {max-height: 200px;max-width: 100%;overflow: auto;}#sk-container-id-1 input.sk-toggleable__control:checked~label.sk-toggleable__label-arrow:before {content: \"▾\";}#sk-container-id-1 div.sk-estimator input.sk-toggleable__control:checked~label.sk-toggleable__label {background-color: #d4ebff;}#sk-container-id-1 div.sk-label input.sk-toggleable__control:checked~label.sk-toggleable__label {background-color: #d4ebff;}#sk-container-id-1 input.sk-hidden--visually {border: 0;clip: rect(1px 1px 1px 1px);clip: rect(1px, 1px, 1px, 1px);height: 1px;margin: -1px;overflow: hidden;padding: 0;position: absolute;width: 1px;}#sk-container-id-1 div.sk-estimator {font-family: monospace;background-color: #f0f8ff;border: 1px dotted black;border-radius: 0.25em;box-sizing: border-box;margin-bottom: 0.5em;}#sk-container-id-1 div.sk-estimator:hover {background-color: #d4ebff;}#sk-container-id-1 div.sk-parallel-item::after {content: \"\";width: 100%;border-bottom: 1px solid gray;flex-grow: 1;}#sk-container-id-1 div.sk-label:hover label.sk-toggleable__label {background-color: #d4ebff;}#sk-container-id-1 div.sk-serial::before {content: \"\";position: absolute;border-left: 1px solid gray;box-sizing: border-box;top: 0;bottom: 0;left: 50%;z-index: 0;}#sk-container-id-1 div.sk-serial {display: flex;flex-direction: column;align-items: center;background-color: white;padding-right: 0.2em;padding-left: 0.2em;position: relative;}#sk-container-id-1 div.sk-item {position: relative;z-index: 1;}#sk-container-id-1 div.sk-parallel {display: flex;align-items: stretch;justify-content: center;background-color: white;position: relative;}#sk-container-id-1 div.sk-item::before, #sk-container-id-1 div.sk-parallel-item::before {content: \"\";position: absolute;border-left: 1px solid gray;box-sizing: border-box;top: 0;bottom: 0;left: 50%;z-index: -1;}#sk-container-id-1 div.sk-parallel-item {display: flex;flex-direction: column;z-index: 1;position: relative;background-color: white;}#sk-container-id-1 div.sk-parallel-item:first-child::after {align-self: flex-end;width: 50%;}#sk-container-id-1 div.sk-parallel-item:last-child::after {align-self: flex-start;width: 50%;}#sk-container-id-1 div.sk-parallel-item:only-child::after {width: 0;}#sk-container-id-1 div.sk-dashed-wrapped {border: 1px dashed gray;margin: 0 0.4em 0.5em 0.4em;box-sizing: border-box;padding-bottom: 0.4em;background-color: white;}#sk-container-id-1 div.sk-label label {font-family: monospace;font-weight: bold;display: inline-block;line-height: 1.2em;}#sk-container-id-1 div.sk-label-container {text-align: center;}#sk-container-id-1 div.sk-container {/* jupyter's `normalize.less` sets `[hidden] { display: none; }` but bootstrap.min.css set `[hidden] { display: none !important; }` so we also need the `!important` here to be able to override the default hidden behavior on the sphinx rendered scikit-learn.org. See: https://github.com/scikit-learn/scikit-learn/issues/21755 */display: inline-block !important;position: relative;}#sk-container-id-1 div.sk-text-repr-fallback {display: none;}</style><div id=\"sk-container-id-1\" class=\"sk-top-container\"><div class=\"sk-text-repr-fallback\"><pre>DecisionTreeClassifier(max_depth=3, random_state=93)</pre><b>In a Jupyter environment, please rerun this cell to show the HTML representation or trust the notebook. <br />On GitHub, the HTML representation is unable to render, please try loading this page with nbviewer.org.</b></div><div class=\"sk-container\" hidden><div class=\"sk-item\"><div class=\"sk-estimator sk-toggleable\"><input class=\"sk-toggleable__control sk-hidden--visually\" id=\"sk-estimator-id-1\" type=\"checkbox\" checked><label for=\"sk-estimator-id-1\" class=\"sk-toggleable__label sk-toggleable__label-arrow\">DecisionTreeClassifier</label><div class=\"sk-toggleable__content\"><pre>DecisionTreeClassifier(max_depth=3, random_state=93)</pre></div></div></div></div></div>"
      ],
      "text/plain": [
       "DecisionTreeClassifier(max_depth=3, random_state=93)"
      ]
     },
     "execution_count": 16,
     "metadata": {},
     "output_type": "execute_result"
    }
   ],
   "source": [
    "DTC = DecisionTreeClassifier(max_depth = 3, random_state = 93)\n",
    "# DTC = DecisionTreeClassifier(max_leaf_nodes = 10, random_state = 0)\n",
    "DTC.fit(x_train, y_train)"
   ]
  },
  {
   "cell_type": "code",
   "execution_count": 17,
   "id": "ce8da21c-8a48-460e-8b9c-f1a6a43de0e6",
   "metadata": {},
   "outputs": [],
   "source": [
    "predictions = DTC.predict(x_test)\n",
    "# type(predictions)"
   ]
  },
  {
   "cell_type": "code",
   "execution_count": 18,
   "id": "0cf38899-bd28-43e7-b00c-e02c5930f37c",
   "metadata": {},
   "outputs": [
    {
     "data": {
      "text/plain": [
       "1.0"
      ]
     },
     "execution_count": 18,
     "metadata": {},
     "output_type": "execute_result"
    }
   ],
   "source": [
    "from sklearn import metrics\n",
    "metrics.accuracy_score(y_test, y_pred = predictions)"
   ]
  },
  {
   "cell_type": "code",
   "execution_count": 19,
   "id": "39db5792-3fdb-4cdf-a2f5-ff215080945c",
   "metadata": {},
   "outputs": [
    {
     "data": {
      "text/plain": [
       "0.0"
      ]
     },
     "execution_count": 19,
     "metadata": {},
     "output_type": "execute_result"
    }
   ],
   "source": [
    "mean_squared_error(y_test, y_pred = predictions)"
   ]
  },
  {
   "cell_type": "code",
   "execution_count": 20,
   "id": "591bdf9d-447e-46ac-9563-75ade485479f",
   "metadata": {},
   "outputs": [],
   "source": [
    "# Create Decision Tree classifer object\n",
    "clf = DecisionTreeClassifier()\n",
    "\n",
    "# Train Decision Tree Classifer\n",
    "clf = clf.fit(x_train,y_train)\n",
    "\n",
    "#Predict the response for test dataset\n",
    "y_pred = clf.predict(x_test)"
   ]
  },
  {
   "cell_type": "code",
   "execution_count": 22,
   "id": "7d3a7af6-596a-4006-8047-0290a702de2e",
   "metadata": {},
   "outputs": [
    {
     "name": "stdout",
     "output_type": "stream",
     "text": [
      "Confusion Matrix is : \n",
      " [[3889    0]\n",
      " [   0 1111]]\n"
     ]
    },
    {
     "data": {
      "image/png": "[encoded data removed]",
      "text/plain": [
       "<Figure size 640x480 with 2 Axes>"
      ]
     },
     "metadata": {},
     "output_type": "display_data"
    }
   ],
   "source": [
    "CM = confusion_matrix(y_test, predictions)\n",
    "print('Confusion Matrix is : \\n', CM)\n",
    "\n",
    "# drawing confusion matrix\n",
    "sns.heatmap(CM, annot=True,fmt='3g')\n",
    "# sns.heatmap(CM, center = True)\n",
    "plt.show()"
   ]
  },
  {
   "cell_type": "code",
   "execution_count": null,
   "id": "1e31e561-a2e5-4698-b9fa-b355726fe070",
   "metadata": {},
   "outputs": [],
   "source": [
    "#from sklearn.tree import export_graphviz\n",
    "# from io import StringIO  \n",
    "# from IPython.display import Image  \n",
    "# import pydotplus\n",
    "\n",
    "# dot_data = StringIO()\n",
    "# export_graphviz(clf, out_file=dot_data,  \n",
    "#                 filled=True, rounded=True,\n",
    "#                 special_characters=True,feature_names = feature_cols,class_names=['0','1'])\n",
    "# graph = pydotplus.graph_from_dot_data(dot_data.getvalue())  \n",
    "# graph.write_png('weather.png')\n",
    "# Image(graph.create_png())"
   ]
  }
 ],
 "metadata": {
  "kernelspec": {
   "display_name": "Python 3 (ipykernel)",
   "language": "python",
   "name": "python3"
  },
  "language_info": {
   "codemirror_mode": {
    "name": "ipython",
    "version": 3
   },
   "file_extension": ".py",
   "mimetype": "text/x-python",
   "name": "python",
   "nbconvert_exporter": "python",
   "pygments_lexer": "ipython3",
   "version": "3.10.6"
  }
 },
 "nbformat": 4,
 "nbformat_minor": 5
}
